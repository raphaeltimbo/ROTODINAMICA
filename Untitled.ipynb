{
 "cells": [
  {
   "cell_type": "code",
   "execution_count": 1,
   "metadata": {
    "collapsed": true
   },
   "outputs": [],
   "source": [
    "from importlib import reload\n",
    "from rotodinamica import *\n",
    "%matplotlib inline"
   ]
  },
  {
   "cell_type": "code",
   "execution_count": null,
   "metadata": {
    "collapsed": false
   },
   "outputs": [],
   "source": [
    "reload(rotodinamica)"
   ]
  },
  {
   "cell_type": "code",
   "execution_count": 2,
   "metadata": {
    "collapsed": true
   },
   "outputs": [],
   "source": [
    "rotor1 = Rigid_Rotor()"
   ]
  },
  {
   "cell_type": "code",
   "execution_count": 4,
   "metadata": {
    "collapsed": false
   },
   "outputs": [],
   "source": [
    "subs1_ = [(kx1 + kx2, kxt),\n",
    "         (ky1 + ky2, kyt),\n",
    "         (-a*kx1 + b*kx2, kxc),\n",
    "         (-a*ky1 + b*ky2, kyc),\n",
    "         (a**2*kx1 + b**2*kx2, kxr),\n",
    "         (a**2*ky1 + b**2*ky2, kyr)]\n",
    "\n",
    "subs_iso1 = [(kxt, kt), \n",
    "             (kyt, kt), \n",
    "             (kxc, kc), \n",
    "             (kyc, kc), \n",
    "             (kxr, kr), \n",
    "             (kyr, kr)]\n",
    "\n",
    "subs3511 = [(Ip*omega, 0), (kc, 0)]\n",
    "\n",
    "example3511 = [(m, 122.68), \n",
    "               (Ip, 0.6134), \n",
    "               (Id, 2.8625), \n",
    "               (kt, 2*10**6), \n",
    "               (kr, 125*10**3), \n",
    "               (kc, 0)]"
   ]
  },
  {
   "cell_type": "code",
   "execution_count": 10,
   "metadata": {
    "collapsed": false
   },
   "outputs": [],
   "source": [
    "rotor1.define_model(subs1_)\n",
    "rotor1.define_model(subs_iso1)\n",
    "rotor1.define_model(subs3511)\n",
    "rotor1.define_model(example3511)"
   ]
  },
  {
   "cell_type": "code",
   "execution_count": 8,
   "metadata": {
    "collapsed": false
   },
   "outputs": [
    {
     "data": {
      "image/png": "[encoded data removed]",
      "text/latex": [
       "$$\\left [ k_{C} \\psi + k_{T} u + m \\ddot{u}, \\quad - k_{C} \\theta + k_{T} v + m \\ddot{v}, \\quad I_{d} \\ddot{\\theta} + I_{p} \\Omega \\dot{\\psi} - k_{C} v + k_{R} \\theta, \\quad I_{d} \\ddot{\\psi} - I_{p} \\Omega \\dot{\\theta} + k_{C} u + k_{R} \\psi\\right ]$$"
      ],
      "text/plain": [
       "[k_C⋅ψ + k_T⋅u + m⋅ü, -k_C⋅θ + k_T⋅v + m⋅v̈, I_d⋅θ̈ + Iₚ⋅Ω⋅ψ̇ - k_C⋅v + k_R⋅θ\n",
       ", I_d⋅ψ̈ - Iₚ⋅Ω⋅θ̇ + k_C⋅u + k_R⋅ψ]"
      ]
     },
     "execution_count": 8,
     "metadata": {},
     "output_type": "execute_result"
    }
   ],
   "source": [
    "rotor1.model"
   ]
  },
  {
   "cell_type": "code",
   "execution_count": 11,
   "metadata": {
    "collapsed": true
   },
   "outputs": [],
   "source": [
    "ics = [[(u, 0.001), (t, 0)],\n",
    "       [(v, 0.0005), (t, 0)]]\n",
    "d_ics = [[(u, 0.030), (t, 0)],\n",
    "         [(v, 0), (t, 0)]]\n",
    "\n",
    "rotor1.solve_model(ics, d_ics)"
   ]
  },
  {
   "cell_type": "code",
   "execution_count": null,
   "metadata": {
    "collapsed": false
   },
   "outputs": [],
   "source": [
    "rotor1.orbit()"
   ]
  },
  {
   "cell_type": "code",
   "execution_count": 9,
   "metadata": {
    "collapsed": false
   },
   "outputs": [
    {
     "data": {
      "image/png": "[encoded data removed]",
      "text/latex": [
       "$$\\left [ m \\ddot{u} + \\left(k_{x1} + k_{x2}\\right) u + \\left(- a k_{x1} + b k_{x2}\\right) \\psi, \\quad m \\ddot{v} + \\left(k_{y1} + k_{y2}\\right) v + \\left(a k_{y1} - b k_{y2}\\right) \\theta, \\quad I_{d} \\ddot{\\theta} + I_{p} \\Omega \\dot{\\psi} + \\left(a k_{y1} - b k_{y2}\\right) v + \\left(a^{2} k_{y1} + b^{2} k_{y2}\\right) \\theta, \\quad I_{d} \\ddot{\\psi} - I_{p} \\Omega \\dot{\\theta} + \\left(- a k_{x1} + b k_{x2}\\right) u + \\left(a^{2} k_{x1} + b^{2} k_{x2}\\right) \\psi\\right ]$$"
      ],
      "text/plain": [
       "⎡                                                                             \n",
       "⎣m⋅ü + (kₓ₁ + kₓ₂)⋅u + (-a⋅kₓ₁ + b⋅kₓ₂)⋅ψ, m⋅v̈ + (k_y1 + k_y2)⋅v + (a⋅k_y1 -\n",
       "\n",
       "                                                     ⎛ 2         2     ⎞      \n",
       " b⋅k_y2)⋅θ, I_d⋅θ̈ + Iₚ⋅Ω⋅ψ̇ + (a⋅k_y1 - b⋅k_y2)⋅v + ⎝a ⋅k_y1 + b ⋅k_y2⎠⋅θ, I_\n",
       "\n",
       "                                      ⎛ 2        2    ⎞  ⎤\n",
       "d⋅ψ̈ - Iₚ⋅Ω⋅θ̇ + (-a⋅kₓ₁ + b⋅kₓ₂)⋅u + ⎝a ⋅kₓ₁ + b ⋅kₓ₂⎠⋅ψ⎦"
      ]
     },
     "execution_count": 9,
     "metadata": {},
     "output_type": "execute_result"
    }
   ],
   "source": [
    "rotor1.sys_of_eqs"
   ]
  },
  {
   "cell_type": "code",
   "execution_count": 12,
   "metadata": {
    "collapsed": false
   },
   "outputs": [
    {
     "data": {
      "image/png": "[encoded data removed]",
      "text/latex": [
       "$$-0.000220426173125$$"
      ],
      "text/plain": [
       "-0.000220426173125"
      ]
     },
     "execution_count": 12,
     "metadata": {},
     "output_type": "execute_result"
    }
   ],
   "source": [
    "rotor1.x(1)"
   ]
  },
  {
   "cell_type": "code",
   "execution_count": 13,
   "metadata": {
    "collapsed": false
   },
   "outputs": [
    {
     "data": {
      "image/png": "[encoded data removed]",
      "text/plain": [
       "<matplotlib.figure.Figure at 0xb38e9e8>"
      ]
     },
     "metadata": {},
     "output_type": "display_data"
    },
    {
     "data": {
      "text/plain": [
       "(<matplotlib.figure.Figure at 0xb38e9e8>, None)"
      ]
     },
     "execution_count": 13,
     "metadata": {},
     "output_type": "execute_result"
    }
   ],
   "source": [
    "rotor1.orbit()"
   ]
  },
  {
   "cell_type": "code",
   "execution_count": null,
   "metadata": {
    "collapsed": true
   },
   "outputs": [],
   "source": []
  }
 ],
 "metadata": {
  "kernelspec": {
   "display_name": "Python 3",
   "language": "python",
   "name": "python3"
  },
  "language_info": {
   "codemirror_mode": {
    "name": "ipython",
    "version": 3
   },
   "file_extension": ".py",
   "mimetype": "text/x-python",
   "name": "python",
   "nbconvert_exporter": "python",
   "pygments_lexer": "ipython3",
   "version": "3.5.1"
  }
 },
 "nbformat": 4,
 "nbformat_minor": 0
}
