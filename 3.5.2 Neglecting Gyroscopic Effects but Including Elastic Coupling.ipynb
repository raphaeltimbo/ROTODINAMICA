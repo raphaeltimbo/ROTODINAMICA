{
 "cells": [
  {
   "cell_type": "code",
   "execution_count": null,
   "metadata": {
    "collapsed": false
   },
   "outputs": [],
   "source": [
    "from importlib import reload\n",
    "from ROTODINAMICA import *\n",
    "from sympy.solvers.ode import dsolve, classify_sysode, check_linear_2eq_order2\n",
    "%matplotlib inline"
   ]
  },
  {
   "cell_type": "code",
   "execution_count": null,
   "metadata": {
    "collapsed": false
   },
   "outputs": [],
   "source": [
    "reload(rotodinamica)"
   ]
  },
  {
   "cell_type": "code",
   "execution_count": null,
   "metadata": {
    "collapsed": true
   },
   "outputs": [],
   "source": [
    "rotor1 = RigidRotor()"
   ]
  },
  {
   "cell_type": "code",
   "execution_count": null,
   "metadata": {
    "collapsed": false
   },
   "outputs": [],
   "source": [
    "subs1_ = [(kx1 + kx2, kxt),\n",
    "          (ky1 + ky2, kyt),\n",
    "          (-a*kx1 + b*kx2, kxc),\n",
    "          (-a*ky1 + b*ky2, kyc),\n",
    "          (a**2*kx1 + b**2*kx2, kxr),\n",
    "          (a**2*ky1 + b**2*ky2, kyr)]\n",
    "\n",
    "subs_iso1 = [(kxt, kt), \n",
    "             (kyt, kt), \n",
    "             (kxc, kc), \n",
    "             (kyc, kc), \n",
    "             (kxr, kr), \n",
    "             (kyr, kr)]\n",
    "\n",
    "subs352 = [(Ip*omega, 0)]\n",
    "\n",
    "subsex352 = [(m, 122.68),\n",
    "             (Ip, 0.6134),\n",
    "             (Id, 2.8625),\n",
    "             (kt, 2.3*10**6),\n",
    "             (kr, 1.4375*10**6),\n",
    "             (kc, 75*10**3)]\n"
   ]
  },
  {
   "cell_type": "code",
   "execution_count": null,
   "metadata": {
    "collapsed": false
   },
   "outputs": [],
   "source": [
    "rotor1.define_model(subs1_)\n",
    "rotor1.define_model(subs_iso1)\n",
    "rotor1.define_model(subs352)"
   ]
  },
  {
   "cell_type": "code",
   "execution_count": null,
   "metadata": {
    "collapsed": true
   },
   "outputs": [],
   "source": [
    "rotor1.define_model(subsex352)"
   ]
  },
  {
   "cell_type": "code",
   "execution_count": null,
   "metadata": {
    "collapsed": false
   },
   "outputs": [],
   "source": [
    "rotor1.model"
   ]
  },
  {
   "cell_type": "code",
   "execution_count": null,
   "metadata": {
    "collapsed": false
   },
   "outputs": [],
   "source": [
    "ics = [[(u, 0.001), (t, 0)],\n",
    "       [(v, 0.0005), (t, 0)]]\n",
    "d_ics = [[(u, 0.030), (t, 0)],\n",
    "         [(v, 0), (t, 0)]]\n",
    "\n",
    "rotor1.solve_model(ics, d_ics)"
   ]
  }
 ],
 "metadata": {
  "kernelspec": {
   "display_name": "Python 3",
   "language": "python",
   "name": "python3"
  },
  "language_info": {
   "codemirror_mode": {
    "name": "ipython",
    "version": 3
   },
   "file_extension": ".py",
   "mimetype": "text/x-python",
   "name": "python",
   "nbconvert_exporter": "python",
   "pygments_lexer": "ipython3",
   "version": "3.5.1"
  }
 },
 "nbformat": 4,
 "nbformat_minor": 0
}
