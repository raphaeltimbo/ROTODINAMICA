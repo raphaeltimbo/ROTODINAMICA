{
 "cells": [
  {
   "cell_type": "code",
   "execution_count": null,
   "metadata": {
    "collapsed": true
   },
   "outputs": [],
   "source": [
    "import sympy\n",
    "from sympy import *\n",
    "from sympy.physics.mechanics import dynamicsymbols, init_vprinting, msubs\n",
    "from IPython.display import display\n",
    "import matplotlib.pyplot as plt\n",
    "import scipy as sp\n",
    "%matplotlib inline"
   ]
  },
  {
   "cell_type": "code",
   "execution_count": null,
   "metadata": {
    "collapsed": false
   },
   "outputs": [],
   "source": [
    "init_vprinting()"
   ]
  },
  {
   "cell_type": "code",
   "execution_count": null,
   "metadata": {
    "collapsed": false
   },
   "outputs": [],
   "source": [
    "t = Symbol('t')\n",
    "u, v, teta, psi = dynamicsymbols('u v theta psi')"
   ]
  },
  {
   "cell_type": "code",
   "execution_count": null,
   "metadata": {
    "collapsed": false
   },
   "outputs": [],
   "source": [
    "symrep1 = (\n",
    "'m I_d I_p Omega k_x1 k_x2 k_y1 k_y2 a b')\n",
    "m, Id, Ip, omega, kx1, kx2, ky1, ky2, a, b = symbols(symrep1, positive=True)\n",
    "symrep2 = (\n",
    "'k_xT k_xC k_xR k_yT k_yC k_yR k_T k_C k_R')\n",
    "kxt, kxc, kxr, kyt, kyc, kyr, kt, kc, kr = symbols(symrep2, positive=True)"
   ]
  },
  {
   "cell_type": "code",
   "execution_count": null,
   "metadata": {
    "collapsed": true
   },
   "outputs": [],
   "source": [
    "C1, C2 = symbols('C1 C2')"
   ]
  },
  {
   "cell_type": "code",
   "execution_count": null,
   "metadata": {
    "collapsed": false
   },
   "outputs": [],
   "source": [
    "eq1 = m*(u.diff(t, t)) + (kx1 + kx2)*u + (-a*kx1 + b*kx2)*psi"
   ]
  },
  {
   "cell_type": "code",
   "execution_count": null,
   "metadata": {
    "collapsed": false
   },
   "outputs": [],
   "source": [
    "eq2 = m*(v.diff(t, t)) + (ky1 + ky2)*v + (a*ky1 - b*ky2)*teta"
   ]
  },
  {
   "cell_type": "code",
   "execution_count": null,
   "metadata": {
    "collapsed": false
   },
   "outputs": [],
   "source": [
    "eq3 = Id*(teta.diff(t, t)) + Ip*omega*(psi.diff(t)) + (a*ky1 - b*ky2)*v + (a**2*ky1 + b**2*ky2)*teta"
   ]
  },
  {
   "cell_type": "code",
   "execution_count": null,
   "metadata": {
    "collapsed": false
   },
   "outputs": [],
   "source": [
    "eq4 = Id*(psi.diff(t, t)) - Ip*omega*(teta.diff(t)) + (-a*kx1 + b*kx2)*u + (a**2*kx1 + b**2*kx2)*psi"
   ]
  },
  {
   "cell_type": "code",
   "execution_count": null,
   "metadata": {
    "collapsed": true
   },
   "outputs": [],
   "source": [
    "system = [eq1, eq2, eq3, eq4]"
   ]
  },
  {
   "cell_type": "code",
   "execution_count": null,
   "metadata": {
    "collapsed": true
   },
   "outputs": [],
   "source": [
    "symbol?"
   ]
  },
  {
   "cell_type": "code",
   "execution_count": null,
   "metadata": {
    "collapsed": false
   },
   "outputs": [],
   "source": [
    "for i in system:\n",
    "    display(i)"
   ]
  },
  {
   "cell_type": "code",
   "execution_count": null,
   "metadata": {
    "collapsed": true
   },
   "outputs": [],
   "source": [
    "subs1 = [(kx1 + kx2, kxt),\n",
    "         (ky1 + ky2, kyt),\n",
    "         (-a*kx1 + b*kx2, kxc),\n",
    "         (-a*ky1 + b*ky2, kyc),\n",
    "         (a**2*kx1 + b**2*kx2, kxr),\n",
    "         (a**2*ky1 + b**2*ky2, kyr)]"
   ]
  },
  {
   "cell_type": "code",
   "execution_count": null,
   "metadata": {
    "collapsed": false
   },
   "outputs": [],
   "source": [
    "[2*i for i in range(10)]"
   ]
  },
  {
   "cell_type": "code",
   "execution_count": null,
   "metadata": {
    "collapsed": true
   },
   "outputs": [],
   "source": [
    "system2 = [eq.subs(subs1) for eq in system]"
   ]
  },
  {
   "cell_type": "code",
   "execution_count": null,
   "metadata": {
    "collapsed": false
   },
   "outputs": [],
   "source": [
    "system2 = []\n",
    "for eq in system:\n",
    "    eq_ = eq.subs(subs1)\n",
    "    system2.append(eq_)"
   ]
  },
  {
   "cell_type": "code",
   "execution_count": null,
   "metadata": {
    "collapsed": false
   },
   "outputs": [],
   "source": [
    "for i in system2:\n",
    "    display(i)"
   ]
  },
  {
   "cell_type": "code",
   "execution_count": null,
   "metadata": {
    "collapsed": true
   },
   "outputs": [],
   "source": [
    "#Isotropic Flexible Supports\n",
    "subs_iso = [(kxt, kt), (kyt, kt), (kxc, kc), (kyc, kc), (kxr, kr), (kyr, kr)]\n",
    "system_iso = []\n",
    "for eq in system2:\n",
    "    eq_ = eq.subs(subs_iso)\n",
    "    system_iso.append(eq_)"
   ]
  },
  {
   "cell_type": "code",
   "execution_count": null,
   "metadata": {
    "collapsed": false
   },
   "outputs": [],
   "source": [
    "for i in system_iso:\n",
    "    display(i)"
   ]
  },
  {
   "cell_type": "code",
   "execution_count": null,
   "metadata": {
    "collapsed": false
   },
   "outputs": [],
   "source": [
    "#3.5.1 Neglecting Gyroscopic Effects and Elastic Coupling\n",
    "subs351 = [(Ip*omega, 0), (kc, 0)]\n",
    "system_iso_351 = []\n",
    "for eq in system_iso:\n",
    "    eq_ = eq.subs(subs351)\n",
    "    system_iso_351.append(eq_)"
   ]
  },
  {
   "cell_type": "code",
   "execution_count": null,
   "metadata": {
    "collapsed": false
   },
   "outputs": [],
   "source": [
    "for i in system_iso_351:\n",
    "    display(i)"
   ]
  },
  {
   "cell_type": "code",
   "execution_count": null,
   "metadata": {
    "collapsed": false
   },
   "outputs": [],
   "source": [
    "system_iso_351"
   ]
  },
  {
   "cell_type": "code",
   "execution_count": null,
   "metadata": {
    "collapsed": false
   },
   "outputs": [],
   "source": [
    "system_iso_351_sol = []\n",
    "for eq in system_iso_351:    \n",
    "    system_iso_351_sol.append(dsolve(eq))"
   ]
  },
  {
   "cell_type": "code",
   "execution_count": null,
   "metadata": {
    "collapsed": false
   },
   "outputs": [],
   "source": [
    "for i in system_iso_351_sol:\n",
    "    display(i)"
   ]
  },
  {
   "cell_type": "code",
   "execution_count": null,
   "metadata": {
    "collapsed": true
   },
   "outputs": [],
   "source": [
    "example351 = [(m, 122.68), (Ip, 0.6134), (Id, 2.8625), (kt, 2*10**6), (kr, 125*10**3), (kc, 0)]"
   ]
  },
  {
   "cell_type": "code",
   "execution_count": null,
   "metadata": {
    "collapsed": false
   },
   "outputs": [],
   "source": [
    "example351_sol = []\n",
    "for eq in system_iso_351_sol:\n",
    "    eq_ = eq.subs(example351)\n",
    "    example351_sol.append(eq_)\n",
    "\n",
    "for i in example351_sol:\n",
    "    display(i)"
   ]
  },
  {
   "cell_type": "code",
   "execution_count": null,
   "metadata": {
    "collapsed": true
   },
   "outputs": [],
   "source": [
    "def solve_constants(eq, ics, d_ics):\n",
    "    udiff = Eq(d_ics[0][1], eq.rhs.diff(t))\n",
    "    system = [eq.subs(ics), udiff.subs(t, 0)]\n",
    "    consts = solve(system, [C1, C2])\n",
    "    return eq.subs(consts)"
   ]
  },
  {
   "cell_type": "code",
   "execution_count": null,
   "metadata": {
    "collapsed": false
   },
   "outputs": [],
   "source": [
    "aa = solve_constants(example351_sol[0], ics[0], d_ics[0])"
   ]
  },
  {
   "cell_type": "code",
   "execution_count": null,
   "metadata": {
    "collapsed": false
   },
   "outputs": [],
   "source": [
    "aa"
   ]
  },
  {
   "cell_type": "code",
   "execution_count": null,
   "metadata": {
    "collapsed": false
   },
   "outputs": [],
   "source": [
    "ics = [[(u, 0.001), (t, 0)],\n",
    "       [(v, 0.0005), (t, 0)]]\n",
    "d_ics = [[(u, 0.030), (t, 0)],\n",
    "         [(v, 0), (t, 0)]]\n",
    "\n",
    "example351_sol_2 = []\n",
    "for eq in enumerate(example351_sol[:2]):\n",
    "    soln = solve_constants(eq[1], ics[eq[0]], d_ics[eq[0]])\n",
    "    example351_sol_2.append(soln)\n",
    "    \n",
    "for i in example351_sol_2:\n",
    "    display(i)"
   ]
  },
  {
   "cell_type": "code",
   "execution_count": null,
   "metadata": {
    "collapsed": false
   },
   "outputs": [],
   "source": [
    "x1 = lambdify(t, example351_sol_2[0].rhs, 'numpy')\n",
    "y1 = lambdify(t, example351_sol_2[1].rhs, 'numpy')"
   ]
  },
  {
   "cell_type": "code",
   "execution_count": null,
   "metadata": {
    "collapsed": true
   },
   "outputs": [],
   "source": [
    "t1 = sp.linspace(0, 0.2, 100)"
   ]
  },
  {
   "cell_type": "code",
   "execution_count": null,
   "metadata": {
    "collapsed": false
   },
   "outputs": [],
   "source": [
    "fig1 = plt.figure()\n",
    "ax1 = fig1.add_subplot(111)\n",
    "ax1.set_xlim([-0.0013, 0.0013])\n",
    "ax1.set_ylim([-0.0013, 0.0013])\n",
    "ax1.plot(x1(t1[0]), y1(t1[0]), 'bo')\n",
    "ax1.plot(x1(t1[:24]), y1(t1[:24]))"
   ]
  },
  {
   "cell_type": "code",
   "execution_count": null,
   "metadata": {
    "collapsed": true
   },
   "outputs": [],
   "source": [
    "ax1.plot?"
   ]
  },
  {
   "cell_type": "code",
   "execution_count": null,
   "metadata": {
    "collapsed": true
   },
   "outputs": [],
   "source": [
    "class Rotor(object):\n",
    "    sys_of_eqs = system\n",
    "    \n",
    "    def __init__(self):\n",
    "        self.model = system\n",
    "                \n",
    "    def define_model(self, parameters):\n",
    "        new_sys = []\n",
    "        for eq in self.model:\n",
    "            eq_ = eq.subs(parameters)\n",
    "            new_sys.append(eq_)\n",
    "            self.model = new_sys\n",
    "            \n",
    "    def solve_model(self, ics, d_ics):\n",
    "        model_soln = []\n",
    "        for eq in self.model:\n",
    "            model_soln.append(dsolve(eq))\n",
    "            \n",
    "        def solve_constants(eq, ics, d_ics):\n",
    "            udiff = Eq(d_ics[0][1], eq.rhs.diff(t))\n",
    "            C_1 = solve(eq.subs(ics), {C1, C2})\n",
    "            C_2 = solve(udiff.subs(t, 0), {C1, C2})\n",
    "            consts = {}\n",
    "            consts.update(C_1[0])\n",
    "            consts.update(C_2[0])\n",
    "            return eq.subs(consts)\n",
    "        \n",
    "        model_soln_f =[]\n",
    "        for eq in enumerate(model_soln[:len(ics)]):\n",
    "            soln = solve_constants(eq[1], ics[eq[0]], d_ics[eq[0]])\n",
    "            model_soln_f.append(soln)\n",
    "        \n",
    "        self.model_response = model_soln_f\n",
    "        self.x = lambdify(t, model_soln_f[0].rhs, 'numpy')\n",
    "        self.y = lambdify(t, model_soln_f[1].rhs, 'numpy')\n",
    "\n",
    "    def orbit(self):\n",
    "        t1 = sp.linspace(0, 0.2, 100)  \n",
    "        fig1 = plt.figure()\n",
    "        ax1 = fig1.add_subplot(111)  \n",
    "        ax1.set_xlim([-0.0013, 0.0013])\n",
    "        ax1.set_ylim([-0.0013, 0.0013])\n",
    "        ax1.plot(self.x(t1[0]), self.y(t1[0]), 'bo')\n",
    "        ax1.plot(self.x(t1[:24]), self.y(t1[:24]))"
   ]
  },
  {
   "cell_type": "code",
   "execution_count": null,
   "metadata": {
    "collapsed": true
   },
   "outputs": [],
   "source": [
    "rot1 = Rotor()"
   ]
  },
  {
   "cell_type": "code",
   "execution_count": null,
   "metadata": {
    "collapsed": true
   },
   "outputs": [],
   "source": [
    "subs1_ = [(kx1 + kx2, kxt),\n",
    "         (ky1 + ky2, kyt),\n",
    "         (-a*kx1 + b*kx2, kxc),\n",
    "         (-a*ky1 + b*ky2, kyc),\n",
    "         (a**2*kx1 + b**2*kx2, kxr),\n",
    "         (a**2*ky1 + b**2*ky2, kyr)]\n",
    "subs_iso1 = [(kxt, kt), (kyt, kt), (kxc, kc), (kyc, kc), (kxr, kr), (kyr, kr)]\n",
    "subs3511 = [(Ip*omega, 0), (kc, 0)]\n",
    "example3511 = [(m, 122.68), (Ip, 0.6134), (Id, 2.8625), (kt, 2*10**6), (kr, 125*10**3), (kc, 0)]"
   ]
  },
  {
   "cell_type": "code",
   "execution_count": null,
   "metadata": {
    "collapsed": false
   },
   "outputs": [],
   "source": [
    "rot1.define_model(subs1_)\n",
    "rot1.define_model(subs_iso1)\n",
    "#rot1.define_model(subs3511)\n",
    "#rot1.define_model(example3511)"
   ]
  },
  {
   "cell_type": "code",
   "execution_count": null,
   "metadata": {
    "collapsed": false
   },
   "outputs": [],
   "source": [
    "print(rot1.model)"
   ]
  },
  {
   "cell_type": "code",
   "execution_count": null,
   "metadata": {
    "collapsed": false
   },
   "outputs": [],
   "source": [
    "rot1.model"
   ]
  },
  {
   "cell_type": "code",
   "execution_count": null,
   "metadata": {
    "collapsed": false
   },
   "outputs": [],
   "source": [
    "rot1.model"
   ]
  },
  {
   "cell_type": "code",
   "execution_count": null,
   "metadata": {
    "collapsed": false
   },
   "outputs": [],
   "source": [
    "rot1.model"
   ]
  },
  {
   "cell_type": "code",
   "execution_count": null,
   "metadata": {
    "collapsed": false
   },
   "outputs": [],
   "source": [
    "ics = [[(u, 0.001), (t, 0)],\n",
    "       [(v, 0.0005), (t, 0)]]\n",
    "d_ics = [[(u, 0.030), (t, 0)],\n",
    "         [(v, 0), (t, 0)]]\n",
    "\n",
    "rot1.solve_model(ics, d_ics)"
   ]
  },
  {
   "cell_type": "code",
   "execution_count": null,
   "metadata": {
    "collapsed": false
   },
   "outputs": [],
   "source": [
    "rot1.model_response[1]"
   ]
  },
  {
   "cell_type": "code",
   "execution_count": null,
   "metadata": {
    "collapsed": false
   },
   "outputs": [],
   "source": [
    "rot1.x(2)"
   ]
  },
  {
   "cell_type": "code",
   "execution_count": null,
   "metadata": {
    "collapsed": false
   },
   "outputs": [],
   "source": [
    "rot1.orbit()"
   ]
  },
  {
   "cell_type": "code",
   "execution_count": null,
   "metadata": {
    "collapsed": false
   },
   "outputs": [],
   "source": [
    "import sys"
   ]
  },
  {
   "cell_type": "code",
   "execution_count": null,
   "metadata": {
    "collapsed": false
   },
   "outputs": [],
   "source": [
    "sys.path"
   ]
  },
  {
   "cell_type": "code",
   "execution_count": null,
   "metadata": {
    "collapsed": true
   },
   "outputs": [],
   "source": []
  }
 ],
 "metadata": {
  "kernelspec": {
   "display_name": "Python 3",
   "language": "python",
   "name": "python3"
  },
  "language_info": {
   "codemirror_mode": {
    "name": "ipython",
    "version": 3
   },
   "file_extension": ".py",
   "mimetype": "text/x-python",
   "name": "python",
   "nbconvert_exporter": "python",
   "pygments_lexer": "ipython3",
   "version": "3.5.1"
  }
 },
 "nbformat": 4,
 "nbformat_minor": 0
}
