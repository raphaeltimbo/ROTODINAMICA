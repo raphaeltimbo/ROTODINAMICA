{
 "cells": [
  {
   "cell_type": "code",
   "execution_count": 3,
   "metadata": {
    "collapsed": true
   },
   "outputs": [],
   "source": [
    "import sympy\n",
    "from sympy import *\n",
    "from sympy.physics.mechanics import dynamicsymbols, init_vprinting, msubs\n",
    "from IPython.display import display\n",
    "import matplotlib.pyplot as plt\n",
    "import scipy as sp\n",
    "%matplotlib inline"
   ]
  },
  {
   "cell_type": "code",
   "execution_count": 4,
   "metadata": {
    "collapsed": false
   },
   "outputs": [],
   "source": [
    "init_vprinting()"
   ]
  },
  {
   "cell_type": "code",
   "execution_count": 5,
   "metadata": {
    "collapsed": false
   },
   "outputs": [],
   "source": [
    "t = Symbol('t')\n",
    "u, v, teta, psi = dynamicsymbols('u v theta psi')"
   ]
  },
  {
   "cell_type": "code",
   "execution_count": 49,
   "metadata": {
    "collapsed": false
   },
   "outputs": [],
   "source": [
    "symrep1 = (\n",
    "'m I_d I_p Omega k_x1 k_x2 k_y1 k_y2 a b')\n",
    "m, Id, Ip, omega, kx1, kx2, ky1, ky2, a, b = symbols(symrep1, positive=True)\n",
    "symrep2 = (\n",
    "'k_xT k_xC k_xR k_yT k_yC k_yR k_T k_C k_R')\n",
    "kxt, kxc, kxr, kyt, kyc, kyr, kt, kc, kr = symbols(symrep2, positive=True)"
   ]
  },
  {
   "cell_type": "code",
   "execution_count": 7,
   "metadata": {
    "collapsed": true
   },
   "outputs": [],
   "source": [
    "C1, C2 = symbols('C1 C2')"
   ]
  },
  {
   "cell_type": "code",
   "execution_count": 8,
   "metadata": {
    "collapsed": false
   },
   "outputs": [],
   "source": [
    "eq1 = m*(u.diff(t, t)) + (kx1 + kx2)*u + (-a*kx1 + b*kx2)*psi"
   ]
  },
  {
   "cell_type": "code",
   "execution_count": 9,
   "metadata": {
    "collapsed": false
   },
   "outputs": [],
   "source": [
    "eq2 = m*(v.diff(t, t)) + (ky1 + ky2)*v + (a*ky1 - b*ky2)*teta"
   ]
  },
  {
   "cell_type": "code",
   "execution_count": 10,
   "metadata": {
    "collapsed": false
   },
   "outputs": [],
   "source": [
    "eq3 = Id*(teta.diff(t, t)) + Ip*omega*(psi.diff(t)) + (a*ky1 - b*ky2)*v + (a**2*ky1 + b**2*ky2)*teta"
   ]
  },
  {
   "cell_type": "code",
   "execution_count": 11,
   "metadata": {
    "collapsed": false
   },
   "outputs": [],
   "source": [
    "eq4 = Id*(psi.diff(t, t)) - Ip*omega*(teta.diff(t)) + (-a*kx1 + b*kx2)*u + (a**2*kx1 + b**2*kx2)*psi"
   ]
  },
  {
   "cell_type": "code",
   "execution_count": 12,
   "metadata": {
    "collapsed": true
   },
   "outputs": [],
   "source": [
    "system = [eq1, eq2, eq3, eq4]"
   ]
  },
  {
   "cell_type": "code",
   "execution_count": 13,
   "metadata": {
    "collapsed": false
   },
   "outputs": [
    {
     "data": {
      "image/png": "[encoded data removed]",
      "text/latex": [
       "$$m \\ddot{u} + \\left(k_{x1} + k_{x2}\\right) u + \\left(- a k_{x1} + b k_{x2}\\right) \\psi$$"
      ],
      "text/plain": [
       "m⋅ü + (kₓ₁ + kₓ₂)⋅u + (-a⋅kₓ₁ + b⋅kₓ₂)⋅ψ"
      ]
     },
     "metadata": {},
     "output_type": "display_data"
    },
    {
     "data": {
      "image/png": "[encoded data removed]",
      "text/latex": [
       "$$m \\ddot{v} + \\left(k_{y1} + k_{y2}\\right) v + \\left(a k_{y1} - b k_{y2}\\right) \\theta$$"
      ],
      "text/plain": [
       "m⋅v̈ + (k_y1 + k_y2)⋅v + (a⋅k_y1 - b⋅k_y2)⋅θ"
      ]
     },
     "metadata": {},
     "output_type": "display_data"
    },
    {
     "data": {
      "image/png": "[encoded data removed]",
      "text/latex": [
       "$$I_{d} \\ddot{\\theta} + I_{p} \\Omega \\dot{\\psi} + \\left(a k_{y1} - b k_{y2}\\right) v + \\left(a^{2} k_{y1} + b^{2} k_{y2}\\right) \\theta$$"
      ],
      "text/plain": [
       "                                         ⎛ 2         2     ⎞  \n",
       "I_d⋅θ̈ + Iₚ⋅Ω⋅ψ̇ + (a⋅k_y1 - b⋅k_y2)⋅v + ⎝a ⋅k_y1 + b ⋅k_y2⎠⋅θ"
      ]
     },
     "metadata": {},
     "output_type": "display_data"
    },
    {
     "data": {
      "image/png": "[encoded data removed]",
      "text/latex": [
       "$$I_{d} \\ddot{\\psi} - I_{p} \\Omega \\dot{\\theta} + \\left(- a k_{x1} + b k_{x2}\\right) u + \\left(a^{2} k_{x1} + b^{2} k_{x2}\\right) \\psi$$"
      ],
      "text/plain": [
       "                                        ⎛ 2        2    ⎞  \n",
       "I_d⋅ψ̈ - Iₚ⋅Ω⋅θ̇ + (-a⋅kₓ₁ + b⋅kₓ₂)⋅u + ⎝a ⋅kₓ₁ + b ⋅kₓ₂⎠⋅ψ"
      ]
     },
     "metadata": {},
     "output_type": "display_data"
    }
   ],
   "source": [
    "for i in system:\n",
    "    display(i)"
   ]
  },
  {
   "cell_type": "code",
   "execution_count": 14,
   "metadata": {
    "collapsed": true
   },
   "outputs": [],
   "source": [
    "subs1 = [(kx1 + kx2, kxt),\n",
    "         (ky1 + ky2, kyt),\n",
    "         (-a*kx1 + b*kx2, kxc),\n",
    "         (-a*ky1 + b*ky2, kyc),\n",
    "         (a**2*kx1 + b**2*kx2, kxr),\n",
    "         (a**2*ky1 + b**2*ky2, kyr)]"
   ]
  },
  {
   "cell_type": "code",
   "execution_count": 15,
   "metadata": {
    "collapsed": false
   },
   "outputs": [],
   "source": [
    "system2 = []\n",
    "for eq in system:\n",
    "    eq_ = eq.subs(subs1)\n",
    "    system2.append(eq_)"
   ]
  },
  {
   "cell_type": "code",
   "execution_count": 16,
   "metadata": {
    "collapsed": false
   },
   "outputs": [
    {
     "data": {
      "image/png": "[encoded data removed]",
      "text/latex": [
       "$$k_{xC} \\psi + k_{xT} u + m \\ddot{u}$$"
      ],
      "text/plain": [
       "k_xC⋅ψ + k_xT⋅u + m⋅ü"
      ]
     },
     "metadata": {},
     "output_type": "display_data"
    },
    {
     "data": {
      "image/png": "[encoded data removed]",
      "text/latex": [
       "$$- k_{yC} \\theta + k_{yT} v + m \\ddot{v}$$"
      ],
      "text/plain": [
       "-k_yC⋅θ + k_yT⋅v + m⋅v̈"
      ]
     },
     "metadata": {},
     "output_type": "display_data"
    },
    {
     "data": {
      "image/png": "[encoded data removed]",
      "text/latex": [
       "$$I_{d} \\ddot{\\theta} + I_{p} \\Omega \\dot{\\psi} - k_{yC} v + k_{yR} \\theta$$"
      ],
      "text/plain": [
       "I_d⋅θ̈ + Iₚ⋅Ω⋅ψ̇ - k_yC⋅v + k_yR⋅θ"
      ]
     },
     "metadata": {},
     "output_type": "display_data"
    },
    {
     "data": {
      "image/png": "[encoded data removed]",
      "text/latex": [
       "$$I_{d} \\ddot{\\psi} - I_{p} \\Omega \\dot{\\theta} + k_{xC} u + k_{xR} \\psi$$"
      ],
      "text/plain": [
       "I_d⋅ψ̈ - Iₚ⋅Ω⋅θ̇ + k_xC⋅u + k_xR⋅ψ"
      ]
     },
     "metadata": {},
     "output_type": "display_data"
    }
   ],
   "source": [
    "for i in system2:\n",
    "    display(i)"
   ]
  },
  {
   "cell_type": "code",
   "execution_count": 17,
   "metadata": {
    "collapsed": true
   },
   "outputs": [],
   "source": [
    "#Isotropic Flexible Supports\n",
    "subs_iso = [(kxt, kt), (kyt, kt), (kxc, kc), (kyc, kc), (kxr, kr), (kyr, kr)]\n",
    "system_iso = []\n",
    "for eq in system2:\n",
    "    eq_ = eq.subs(subs_iso)\n",
    "    system_iso.append(eq_)"
   ]
  },
  {
   "cell_type": "code",
   "execution_count": 18,
   "metadata": {
    "collapsed": false
   },
   "outputs": [
    {
     "data": {
      "image/png": "[encoded data removed]",
      "text/latex": [
       "$$k_{C} \\psi + k_{T} u + m \\ddot{u}$$"
      ],
      "text/plain": [
       "k_C⋅ψ + k_T⋅u + m⋅ü"
      ]
     },
     "metadata": {},
     "output_type": "display_data"
    },
    {
     "data": {
      "image/png": "[encoded data removed]",
      "text/latex": [
       "$$- k_{C} \\theta + k_{T} v + m \\ddot{v}$$"
      ],
      "text/plain": [
       "-k_C⋅θ + k_T⋅v + m⋅v̈"
      ]
     },
     "metadata": {},
     "output_type": "display_data"
    },
    {
     "data": {
      "image/png": "[encoded data removed]",
      "text/latex": [
       "$$I_{d} \\ddot{\\theta} + I_{p} \\Omega \\dot{\\psi} - k_{C} v + k_{R} \\theta$$"
      ],
      "text/plain": [
       "I_d⋅θ̈ + Iₚ⋅Ω⋅ψ̇ - k_C⋅v + k_R⋅θ"
      ]
     },
     "metadata": {},
     "output_type": "display_data"
    },
    {
     "data": {
      "image/png": "[encoded data removed]",
      "text/latex": [
       "$$I_{d} \\ddot{\\psi} - I_{p} \\Omega \\dot{\\theta} + k_{C} u + k_{R} \\psi$$"
      ],
      "text/plain": [
       "I_d⋅ψ̈ - Iₚ⋅Ω⋅θ̇ + k_C⋅u + k_R⋅ψ"
      ]
     },
     "metadata": {},
     "output_type": "display_data"
    }
   ],
   "source": [
    "for i in system_iso:\n",
    "    display(i)"
   ]
  },
  {
   "cell_type": "code",
   "execution_count": 19,
   "metadata": {
    "collapsed": false
   },
   "outputs": [],
   "source": [
    "#3.5.1 Neglecting Gyroscopic Effects and Elastic Coupling\n",
    "subs351 = [(Ip*omega, 0), (kc, 0)]\n",
    "system_iso_351 = []\n",
    "for eq in system_iso:\n",
    "    eq_ = eq.subs(subs351)\n",
    "    system_iso_351.append(eq_)"
   ]
  },
  {
   "cell_type": "code",
   "execution_count": 20,
   "metadata": {
    "collapsed": false
   },
   "outputs": [
    {
     "data": {
      "image/png": "[encoded data removed]",
      "text/latex": [
       "$$k_{T} u + m \\ddot{u}$$"
      ],
      "text/plain": [
       "k_T⋅u + m⋅ü"
      ]
     },
     "metadata": {},
     "output_type": "display_data"
    },
    {
     "data": {
      "image/png": "[encoded data removed]",
      "text/latex": [
       "$$k_{T} v + m \\ddot{v}$$"
      ],
      "text/plain": [
       "k_T⋅v + m⋅v̈"
      ]
     },
     "metadata": {},
     "output_type": "display_data"
    },
    {
     "data": {
      "image/png": "[encoded data removed]",
      "text/latex": [
       "$$I_{d} \\ddot{\\theta} + k_{R} \\theta$$"
      ],
      "text/plain": [
       "I_d⋅θ̈ + k_R⋅θ"
      ]
     },
     "metadata": {},
     "output_type": "display_data"
    },
    {
     "data": {
      "image/png": "[encoded data removed]",
      "text/latex": [
       "$$I_{d} \\ddot{\\psi} + k_{R} \\psi$$"
      ],
      "text/plain": [
       "I_d⋅ψ̈ + k_R⋅ψ"
      ]
     },
     "metadata": {},
     "output_type": "display_data"
    }
   ],
   "source": [
    "for i in system_iso_351:\n",
    "    display(i)"
   ]
  },
  {
   "cell_type": "code",
   "execution_count": 21,
   "metadata": {
    "collapsed": false
   },
   "outputs": [
    {
     "data": {
      "image/png": "[encoded data removed]",
      "text/latex": [
       "$$\\left [ k_{T} u + m \\ddot{u}, \\quad k_{T} v + m \\ddot{v}, \\quad I_{d} \\ddot{\\theta} + k_{R} \\theta, \\quad I_{d} \\ddot{\\psi} + k_{R} \\psi\\right ]$$"
      ],
      "text/plain": [
       "[k_T⋅u + m⋅ü, k_T⋅v + m⋅v̈, I_d⋅θ̈ + k_R⋅θ, I_d⋅ψ̈ + k_R⋅ψ]"
      ]
     },
     "execution_count": 21,
     "metadata": {},
     "output_type": "execute_result"
    }
   ],
   "source": [
    "system_iso_351"
   ]
  },
  {
   "cell_type": "code",
   "execution_count": 22,
   "metadata": {
    "collapsed": false
   },
   "outputs": [],
   "source": [
    "system_iso_351_sol = []\n",
    "for eq in system_iso_351:    \n",
    "    system_iso_351_sol.append(dsolve(eq))"
   ]
  },
  {
   "cell_type": "code",
   "execution_count": 23,
   "metadata": {
    "collapsed": false
   },
   "outputs": [
    {
     "data": {
      "image/png": "[encoded data removed]",
      "text/latex": [
       "$$u = C_{1} \\operatorname{sin}\\left(\\frac{\\sqrt{k_{T}} t}{\\sqrt{m}}\\right) + C_{2} \\operatorname{cos}\\left(\\frac{\\sqrt{k_{T}} t}{\\sqrt{m}}\\right)$$"
      ],
      "text/plain": [
       "          ⎛  _____  ⎞         ⎛  _____  ⎞\n",
       "          ⎜╲╱ k_T ⋅t⎟         ⎜╲╱ k_T ⋅t⎟\n",
       "u = C₁⋅sin⎜─────────⎟ + C₂⋅cos⎜─────────⎟\n",
       "          ⎝    √m   ⎠         ⎝    √m   ⎠"
      ]
     },
     "metadata": {},
     "output_type": "display_data"
    },
    {
     "data": {
      "image/png": "[encoded data removed]",
      "text/latex": [
       "$$v = C_{1} \\operatorname{sin}\\left(\\frac{\\sqrt{k_{T}} t}{\\sqrt{m}}\\right) + C_{2} \\operatorname{cos}\\left(\\frac{\\sqrt{k_{T}} t}{\\sqrt{m}}\\right)$$"
      ],
      "text/plain": [
       "          ⎛  _____  ⎞         ⎛  _____  ⎞\n",
       "          ⎜╲╱ k_T ⋅t⎟         ⎜╲╱ k_T ⋅t⎟\n",
       "v = C₁⋅sin⎜─────────⎟ + C₂⋅cos⎜─────────⎟\n",
       "          ⎝    √m   ⎠         ⎝    √m   ⎠"
      ]
     },
     "metadata": {},
     "output_type": "display_data"
    },
    {
     "data": {
      "image/png": "[encoded data removed]",
      "text/latex": [
       "$$\\theta = C_{1} \\operatorname{sin}\\left(\\frac{\\sqrt{k_{R}} t}{\\sqrt{I_{d}}}\\right) + C_{2} \\operatorname{cos}\\left(\\frac{\\sqrt{k_{R}} t}{\\sqrt{I_{d}}}\\right)$$"
      ],
      "text/plain": [
       "          ⎛  _____  ⎞         ⎛  _____  ⎞\n",
       "          ⎜╲╱ k_R ⋅t⎟         ⎜╲╱ k_R ⋅t⎟\n",
       "θ = C₁⋅sin⎜─────────⎟ + C₂⋅cos⎜─────────⎟\n",
       "          ⎜   _____ ⎟         ⎜   _____ ⎟\n",
       "          ⎝ ╲╱ I_d  ⎠         ⎝ ╲╱ I_d  ⎠"
      ]
     },
     "metadata": {},
     "output_type": "display_data"
    },
    {
     "data": {
      "image/png": "[encoded data removed]",
      "text/latex": [
       "$$\\psi = C_{1} \\operatorname{sin}\\left(\\frac{\\sqrt{k_{R}} t}{\\sqrt{I_{d}}}\\right) + C_{2} \\operatorname{cos}\\left(\\frac{\\sqrt{k_{R}} t}{\\sqrt{I_{d}}}\\right)$$"
      ],
      "text/plain": [
       "          ⎛  _____  ⎞         ⎛  _____  ⎞\n",
       "          ⎜╲╱ k_R ⋅t⎟         ⎜╲╱ k_R ⋅t⎟\n",
       "ψ = C₁⋅sin⎜─────────⎟ + C₂⋅cos⎜─────────⎟\n",
       "          ⎜   _____ ⎟         ⎜   _____ ⎟\n",
       "          ⎝ ╲╱ I_d  ⎠         ⎝ ╲╱ I_d  ⎠"
      ]
     },
     "metadata": {},
     "output_type": "display_data"
    }
   ],
   "source": [
    "for i in system_iso_351_sol:\n",
    "    display(i)"
   ]
  },
  {
   "cell_type": "code",
   "execution_count": 24,
   "metadata": {
    "collapsed": true
   },
   "outputs": [],
   "source": [
    "example351 = [(m, 122.68), (Ip, 0.6134), (Id, 2.8625), (kt, 2*10**6), (kr, 125*10**3), (kc, 0)]"
   ]
  },
  {
   "cell_type": "code",
   "execution_count": 25,
   "metadata": {
    "collapsed": false
   },
   "outputs": [
    {
     "data": {
      "image/png": "[encoded data removed]",
      "text/latex": [
       "$$u = C_{1} \\operatorname{sin}\\left(90.2844831822653 \\sqrt{2} t\\right) + C_{2} \\operatorname{cos}\\left(90.2844831822653 \\sqrt{2} t\\right)$$"
      ],
      "text/plain": [
       "u = C₁⋅sin(90.2844831822653⋅√2⋅t) + C₂⋅cos(90.2844831822653⋅√2⋅t)"
      ]
     },
     "metadata": {},
     "output_type": "display_data"
    },
    {
     "data": {
      "image/png": "[encoded data removed]",
      "text/latex": [
       "$$v = C_{1} \\operatorname{sin}\\left(90.2844831822653 \\sqrt{2} t\\right) + C_{2} \\operatorname{cos}\\left(90.2844831822653 \\sqrt{2} t\\right)$$"
      ],
      "text/plain": [
       "v = C₁⋅sin(90.2844831822653⋅√2⋅t) + C₂⋅cos(90.2844831822653⋅√2⋅t)"
      ]
     },
     "metadata": {},
     "output_type": "display_data"
    },
    {
     "data": {
      "image/png": "[encoded data removed]",
      "text/latex": [
       "$$\\theta = C_{1} \\operatorname{sin}\\left(147.763531141385 \\sqrt{2} t\\right) + C_{2} \\operatorname{cos}\\left(147.763531141385 \\sqrt{2} t\\right)$$"
      ],
      "text/plain": [
       "θ = C₁⋅sin(147.763531141385⋅√2⋅t) + C₂⋅cos(147.763531141385⋅√2⋅t)"
      ]
     },
     "metadata": {},
     "output_type": "display_data"
    },
    {
     "data": {
      "image/png": "[encoded data removed]",
      "text/latex": [
       "$$\\psi = C_{1} \\operatorname{sin}\\left(147.763531141385 \\sqrt{2} t\\right) + C_{2} \\operatorname{cos}\\left(147.763531141385 \\sqrt{2} t\\right)$$"
      ],
      "text/plain": [
       "ψ = C₁⋅sin(147.763531141385⋅√2⋅t) + C₂⋅cos(147.763531141385⋅√2⋅t)"
      ]
     },
     "metadata": {},
     "output_type": "display_data"
    }
   ],
   "source": [
    "example351_sol = []\n",
    "for eq in system_iso_351_sol:\n",
    "    eq_ = eq.subs(example351)\n",
    "    example351_sol.append(eq_)\n",
    "\n",
    "for i in example351_sol:\n",
    "    display(i)"
   ]
  },
  {
   "cell_type": "code",
   "execution_count": 26,
   "metadata": {
    "collapsed": true
   },
   "outputs": [],
   "source": [
    "def solve_constants(eq, ics, d_ics):\n",
    "    udiff = Eq(d_ics[0][1], eq.rhs.diff(t))\n",
    "    C_1 = solve(eq.subs(ics), {C1, C2})\n",
    "    C_2 = solve(udiff.subs(t, 0), {C1, C2})\n",
    "    consts = {}\n",
    "    consts.update(C_1[0])\n",
    "    consts.update(C_2[0])\n",
    "    return eq.subs(consts)"
   ]
  },
  {
   "cell_type": "code",
   "execution_count": 27,
   "metadata": {
    "collapsed": false
   },
   "outputs": [
    {
     "data": {
      "image/png": "[encoded data removed]",
      "text/latex": [
       "$$u = 0.000234959570990415 \\operatorname{sin}\\left(90.2844831822653 \\sqrt{2} t\\right) + 0.001 \\operatorname{cos}\\left(90.2844831822653 \\sqrt{2} t\\right)$$"
      ],
      "text/plain": [
       "u = 0.000234959570990415⋅sin(90.2844831822653⋅√2⋅t) + 0.001⋅cos(90.28448318226\n",
       "53⋅√2⋅t)"
      ]
     },
     "metadata": {},
     "output_type": "display_data"
    },
    {
     "data": {
      "image/png": "[encoded data removed]",
      "text/latex": [
       "$$v = 0.0005 \\operatorname{cos}\\left(90.2844831822653 \\sqrt{2} t\\right)$$"
      ],
      "text/plain": [
       "v = 0.0005⋅cos(90.2844831822653⋅√2⋅t)"
      ]
     },
     "metadata": {},
     "output_type": "display_data"
    }
   ],
   "source": [
    "ics = [[(u, 0.001), (t, 0)],\n",
    "       [(v, 0.0005), (t, 0)]]\n",
    "d_ics = [[(u, 0.030), (t, 0)],\n",
    "         [(v, 0), (t, 0)]]\n",
    "\n",
    "example351_sol_2 = []\n",
    "for eq in enumerate(example351_sol[:2]):\n",
    "    soln = solve_constants(eq[1], ics[eq[0]], d_ics[eq[0]])\n",
    "    example351_sol_2.append(soln)\n",
    "    \n",
    "for i in example351_sol_2:\n",
    "    display(i)"
   ]
  },
  {
   "cell_type": "code",
   "execution_count": 151,
   "metadata": {
    "collapsed": false
   },
   "outputs": [],
   "source": [
    "x1 = lambdify(t, example351_sol_2[0].rhs, 'numpy')\n",
    "y1 = lambdify(t, example351_sol_2[1].rhs, 'numpy')"
   ]
  },
  {
   "cell_type": "code",
   "execution_count": 152,
   "metadata": {
    "collapsed": true
   },
   "outputs": [],
   "source": [
    "t1 = sp.linspace(0, 0.2, 100)   "
   ]
  },
  {
   "cell_type": "code",
   "execution_count": 165,
   "metadata": {
    "collapsed": false
   },
   "outputs": [
    {
     "data": {
      "text/plain": [
       "[<matplotlib.lines.Line2D at 0x5f3b908>]"
      ]
     },
     "execution_count": 165,
     "metadata": {},
     "output_type": "execute_result"
    },
    {
     "data": {
      "image/png": "[encoded data removed]",
      "text/plain": [
       "<matplotlib.figure.Figure at 0x8f64ef0>"
      ]
     },
     "metadata": {},
     "output_type": "display_data"
    }
   ],
   "source": [
    "fig1 = plt.figure()\n",
    "ax1 = fig1.add_subplot(111)\n",
    "ax1.set_xlim([-0.0013, 0.0013])\n",
    "ax1.set_ylim([-0.0013, 0.0013])\n",
    "ax1.plot(x1(t1[0]), y1(t1[0]), 'bo')\n",
    "ax1.plot(x1(t1[:24]), y1(t1[:24]))"
   ]
  },
  {
   "cell_type": "code",
   "execution_count": 163,
   "metadata": {
    "collapsed": true
   },
   "outputs": [],
   "source": [
    "ax1.plot?"
   ]
  },
  {
   "cell_type": "code",
   "execution_count": 214,
   "metadata": {
    "collapsed": true
   },
   "outputs": [],
   "source": [
    "class Rotor(object):\n",
    "    sys_of_eqs = system\n",
    "    \n",
    "    def __init__(self):\n",
    "        self.model = system\n",
    "                \n",
    "    def define_model(self, parameters):\n",
    "        new_sys = []\n",
    "        for eq in self.model:\n",
    "            eq_ = eq.subs(parameters)\n",
    "            new_sys.append(eq_)\n",
    "            self.model = new_sys\n",
    "            \n",
    "    def solve_model(self, ics, d_ics):\n",
    "        model_soln = []\n",
    "        for eq in self.model:\n",
    "            model_soln.append(dsolve(eq))\n",
    "            \n",
    "        def solve_constants(eq, ics, d_ics):\n",
    "            udiff = Eq(d_ics[0][1], eq.rhs.diff(t))\n",
    "            C_1 = solve(eq.subs(ics), {C1, C2})\n",
    "            C_2 = solve(udiff.subs(t, 0), {C1, C2})\n",
    "            consts = {}\n",
    "            consts.update(C_1[0])\n",
    "            consts.update(C_2[0])\n",
    "            return eq.subs(consts)\n",
    "        \n",
    "        model_soln_f =[]\n",
    "        for eq in enumerate(model_soln[:len(ics)]):\n",
    "            soln = solve_constants(eq[1], ics[eq[0]], d_ics[eq[0]])\n",
    "            model_soln_f.append(soln)\n",
    "        \n",
    "        self.model_response = model_soln_f\n",
    "        self.x = lambdify(t, model_soln_f[0].rhs, 'numpy')\n",
    "        self.y = lambdify(t, model_soln_f[1].rhs, 'numpy')\n",
    "\n",
    "    def orbit(self):\n",
    "        t1 = sp.linspace(0, 0.2, 100)  \n",
    "        fig1 = plt.figure()\n",
    "        ax1 = fig1.add_subplot(111)  \n",
    "        ax1.set_xlim([-0.0013, 0.0013])\n",
    "        ax1.set_ylim([-0.0013, 0.0013])\n",
    "        ax1.plot(self.x(t1[0]), self.y(t1[0]), 'bo')\n",
    "        ax1.plot(self.x(t1[:24]), self.y(t1[:24]))\n",
    "        "
   ]
  },
  {
   "cell_type": "code",
   "execution_count": 220,
   "metadata": {
    "collapsed": true
   },
   "outputs": [],
   "source": [
    "rot1 = Rotor()"
   ]
  },
  {
   "cell_type": "code",
   "execution_count": 216,
   "metadata": {
    "collapsed": true
   },
   "outputs": [],
   "source": [
    "subs1_ = [(kx1 + kx2, kxt),\n",
    "         (ky1 + ky2, kyt),\n",
    "         (-a*kx1 + b*kx2, kxc),\n",
    "         (-a*ky1 + b*ky2, kyc),\n",
    "         (a**2*kx1 + b**2*kx2, kxr),\n",
    "         (a**2*ky1 + b**2*ky2, kyr)]\n",
    "subs_iso1 = [(kxt, kt), (kyt, kt), (kxc, kc), (kyc, kc), (kxr, kr), (kyr, kr)]\n",
    "subs3511 = [(Ip*omega, 0), (kc, 0)]\n",
    "example3511 = [(m, 122.68), (Ip, 0.6134), (Id, 2.8625), (kt, 2*10**6), (kr, 125*10**3), (kc, 0)]"
   ]
  },
  {
   "cell_type": "code",
   "execution_count": 221,
   "metadata": {
    "collapsed": false
   },
   "outputs": [],
   "source": [
    "rot1.define_model(subs1_)\n",
    "rot1.define_model(subs_iso1)\n",
    "#rot1.define_model(subs3511)\n",
    "#rot1.define_model(example3511)"
   ]
  },
  {
   "cell_type": "code",
   "execution_count": 223,
   "metadata": {
    "collapsed": false
   },
   "outputs": [
    {
     "name": "stdout",
     "output_type": "stream",
     "text": [
      "[k_C*psi(t) + k_T*u(t) + m*Derivative(u(t), t, t), -k_C*theta(t) + k_T*v(t) + m*Derivative(v(t), t, t), I_d*Derivative(theta(t), t, t) + I_p*Omega*Derivative(psi(t), t) - k_C*v(t) + k_R*theta(t), I_d*Derivative(psi(t), t, t) - I_p*Omega*Derivative(theta(t), t) + k_C*u(t) + k_R*psi(t)]\n"
     ]
    }
   ],
   "source": [
    "print(rot1.model)"
   ]
  },
  {
   "cell_type": "code",
   "execution_count": null,
   "metadata": {
    "collapsed": true
   },
   "outputs": [],
   "source": []
  },
  {
   "cell_type": "code",
   "execution_count": 103,
   "metadata": {
    "collapsed": false
   },
   "outputs": [
    {
     "data": {
      "image/png": "[encoded data removed]",
      "text/latex": [
       "$$\\left [ k_{C} \\psi + k_{T} u + m \\ddot{u}, \\quad - k_{C} \\theta + k_{T} v + m \\ddot{v}, \\quad I_{d} \\ddot{\\theta} + I_{p} \\Omega \\dot{\\psi} - k_{C} v + k_{R} \\theta, \\quad I_{d} \\ddot{\\psi} - I_{p} \\Omega \\dot{\\theta} + k_{C} u + k_{R} \\psi\\right ]$$"
      ],
      "text/plain": [
       "[k_C⋅ψ + k_T⋅u + m⋅ü, -k_C⋅θ + k_T⋅v + m⋅v̈, I_d⋅θ̈ + Iₚ⋅Ω⋅ψ̇ - k_C⋅v + k_R⋅θ\n",
       ", I_d⋅ψ̈ - Iₚ⋅Ω⋅θ̇ + k_C⋅u + k_R⋅ψ]"
      ]
     },
     "execution_count": 103,
     "metadata": {},
     "output_type": "execute_result"
    }
   ],
   "source": [
    "rot1.model"
   ]
  },
  {
   "cell_type": "code",
   "execution_count": 105,
   "metadata": {
    "collapsed": false
   },
   "outputs": [
    {
     "data": {
      "image/png": "[encoded data removed]",
      "text/latex": [
       "$$\\left [ k_{T} u + m \\ddot{u}, \\quad k_{T} v + m \\ddot{v}, \\quad I_{d} \\ddot{\\theta} + k_{R} \\theta, \\quad I_{d} \\ddot{\\psi} + k_{R} \\psi\\right ]$$"
      ],
      "text/plain": [
       "[k_T⋅u + m⋅ü, k_T⋅v + m⋅v̈, I_d⋅θ̈ + k_R⋅θ, I_d⋅ψ̈ + k_R⋅ψ]"
      ]
     },
     "execution_count": 105,
     "metadata": {},
     "output_type": "execute_result"
    }
   ],
   "source": [
    "rot1.model"
   ]
  },
  {
   "cell_type": "code",
   "execution_count": 107,
   "metadata": {
    "collapsed": false
   },
   "outputs": [
    {
     "data": {
      "image/png": "[encoded data removed]",
      "text/latex": [
       "$$\\left [ 2000000 u + 122.68 \\ddot{u}, \\quad 2000000 v + 122.68 \\ddot{v}, \\quad 125000 \\theta + 2.8625 \\ddot{\\theta}, \\quad 125000 \\psi + 2.8625 \\ddot{\\psi}\\right ]$$"
      ],
      "text/plain": [
       "[2000000⋅u + 122.68⋅ü, 2000000⋅v + 122.68⋅v̈, 125000⋅θ + 2.8625⋅θ̈, 125000⋅ψ \n",
       "+ 2.8625⋅ψ̈]"
      ]
     },
     "execution_count": 107,
     "metadata": {},
     "output_type": "execute_result"
    }
   ],
   "source": [
    "rot1.model"
   ]
  },
  {
   "cell_type": "code",
   "execution_count": 218,
   "metadata": {
    "collapsed": false
   },
   "outputs": [],
   "source": [
    "ics = [[(u, 0.001), (t, 0)],\n",
    "       [(v, 0.0005), (t, 0)]]\n",
    "d_ics = [[(u, 0.030), (t, 0)],\n",
    "         [(v, 0), (t, 0)]]\n",
    "\n",
    "rot1.solve_model(ics, d_ics)"
   ]
  },
  {
   "cell_type": "code",
   "execution_count": null,
   "metadata": {
    "collapsed": true
   },
   "outputs": [],
   "source": [
    "rot"
   ]
  },
  {
   "cell_type": "code",
   "execution_count": 208,
   "metadata": {
    "collapsed": false
   },
   "outputs": [
    {
     "data": {
      "image/png": "[encoded data removed]",
      "text/latex": [
       "$$v = 0.0005 \\operatorname{cos}\\left(\\frac{838860800 t}{431641876785791} \\sqrt{4316418767857910}\\right)$$"
      ],
      "text/plain": [
       "              ⎛838860800⋅√4316418767857910⋅t⎞\n",
       "v = 0.0005⋅cos⎜─────────────────────────────⎟\n",
       "              ⎝       431641876785791       ⎠"
      ]
     },
     "execution_count": 208,
     "metadata": {},
     "output_type": "execute_result"
    }
   ],
   "source": [
    "rot1.model_response[1]\n"
   ]
  },
  {
   "cell_type": "code",
   "execution_count": 209,
   "metadata": {
    "collapsed": false
   },
   "outputs": [
    {
     "data": {
      "image/png": "[encoded data removed]",
      "text/latex": [
       "$$-0.000220426173125$$"
      ],
      "text/plain": [
       "-0.000220426173125"
      ]
     },
     "execution_count": 209,
     "metadata": {},
     "output_type": "execute_result"
    }
   ],
   "source": [
    "rot1.x(1)"
   ]
  },
  {
   "cell_type": "code",
   "execution_count": 219,
   "metadata": {
    "collapsed": false
   },
   "outputs": [
    {
     "data": {
      "image/png": "[encoded data removed]",
      "text/plain": [
       "<matplotlib.figure.Figure at 0xc7e56d8>"
      ]
     },
     "metadata": {},
     "output_type": "display_data"
    }
   ],
   "source": [
    "rot1.orbit()"
   ]
  },
  {
   "cell_type": "code",
   "execution_count": null,
   "metadata": {
    "collapsed": true
   },
   "outputs": [],
   "source": []
  }
 ],
 "metadata": {
  "kernelspec": {
   "display_name": "Python 3",
   "language": "python",
   "name": "python3"
  },
  "language_info": {
   "codemirror_mode": {
    "name": "ipython",
    "version": 3
   },
   "file_extension": ".py",
   "mimetype": "text/x-python",
   "name": "python",
   "nbconvert_exporter": "python",
   "pygments_lexer": "ipython3",
   "version": "3.5.1"
  }
 },
 "nbformat": 4,
 "nbformat_minor": 0
}
